{
 "cells": [
  {
   "cell_type": "code",
   "execution_count": 1,
   "id": "9599ff69-f806-4c38-9bdb-926e42a310c6",
   "metadata": {},
   "outputs": [],
   "source": [
    "from resume2practice.agent.nodes import (\n",
    "  ResumeProfiler,\n",
    "  JobDescriptionProfiler,\n",
    "  ScorecardGenerator,\n",
    "  TaskGenerator\n",
    ")\n",
    "from resume2practice.agent.graphs import Resume2Practice\n",
    "import os"
   ]
  },
  {
   "cell_type": "code",
   "execution_count": 2,
   "id": "4376ede1-6b65-4cc5-a9f4-c58026b39ac2",
   "metadata": {},
   "outputs": [],
   "source": [
    "resume_profiler_model = os.environ.get(\"RESUME_PROFILER_MODEL\", os.environ.get(\"LLM_MODEL_ID\", \"gpt-4.1-mini\"))\n",
    "resume_profiler_vendor = os.environ.get(\"RESUME_PROFILER_VENDOR\", os.environ.get(\"LLM_VENDOR_ID\", \"openai\"))\n",
    "resume_profiler = ResumeProfiler(vendor=resume_profiler_vendor, model_id=resume_profiler_model)\n",
    "job_description_model = os.environ.get(\"JOB_DESCRIPTION_PROFILER_MODEL\", os.environ.get(\"LLM_MODEL_ID\", \"gpt-4.1-mini\"))\n",
    "job_description_vendor = os.environ.get(\"JOB_DESCRIPTION_PROFILER_VENDOR\", os.environ.get(\"LLM_VENDOR_ID\", \"openai\"))\n",
    "job_description_profiler = JobDescriptionProfiler(vendor=job_description_vendor, model_id=job_description_model)\n",
    "scorecard_generator_model = os.environ.get(\"SCORECARD_GENERATOR_MODEL\", os.environ.get(\"LLM_MODEL_ID\", \"gpt-4.1-mini\"))\n",
    "scorecard_generator_vendor = os.environ.get(\"SCORECARD_GENERATOR_VENDOR\", os.environ.get(\"LLM_VENDOR_ID\", \"openai\"))\n",
    "scorecard_generator = ScorecardGenerator(vendor=scorecard_generator_vendor, model_id=scorecard_generator_model)\n",
    "task_generator_model = os.environ.get(\"TASK_GENERATOR_MODEL\", os.environ.get(\"LLM_MODEL_ID\", \"gpt-4.1-mini\"))\n",
    "task_generator_vendor = os.environ.get(\"TASK_GENERATOR_VENDOR\", os.environ.get(\"LLM_VENDOR_ID\", \"openai\"))\n",
    "task_generator = TaskGenerator(vendor=task_generator_vendor, model_id=task_generator_model)\n",
    "workflow = Resume2Practice(resume_profiler_chain=resume_profiler, \n",
    "                           job_description_profiler_chain=job_description_profiler, \n",
    "                           scorecard_generator_chain=scorecard_generator, \n",
    "                           task_generator_chain=task_generator)"
   ]
  },
  {
   "cell_type": "code",
   "execution_count": 3,
   "id": "eb962431-1789-4e02-b0ed-7c764df916b5",
   "metadata": {},
   "outputs": [
    {
     "data": {
      "text/plain": [
       "{'resume': 'This is a resume',\n",
       " 'job_description': 'This is a job description',\n",
       " 'resume_profile': AIMessage(content='Please provide the resume text or details so I can analyze it and generate the profile for you.', additional_kwargs={'refusal': None}, response_metadata={'token_usage': {'completion_tokens': 19, 'prompt_tokens': 185, 'total_tokens': 204, 'completion_tokens_details': {'accepted_prediction_tokens': 0, 'audio_tokens': 0, 'reasoning_tokens': 0, 'rejected_prediction_tokens': 0}, 'prompt_tokens_details': {'audio_tokens': 0, 'cached_tokens': 0}}, 'model_name': 'gpt-4.1-mini-2025-04-14', 'system_fingerprint': None, 'id': 'chatcmpl-BwuLi9WuCkJEr8srlkJM8usauG7fp', 'service_tier': 'default', 'finish_reason': 'stop', 'logprobs': None}, id='run--4c32f155-5daf-410e-abee-c89e8372b1a4-0', usage_metadata={'input_tokens': 185, 'output_tokens': 19, 'total_tokens': 204, 'input_token_details': {'audio': 0, 'cache_read': 0}, 'output_token_details': {'audio': 0, 'reasoning': 0}}),\n",
       " 'job_description_profile': AIMessage(content='{\\n  \"job_title\": null,\\n  \"summary\": null,\\n  \"responsibilities\": null,\\n  \"industry\": null,\\n  \"hard_requirements\": null,\\n  \"soft_requirements\": null,\\n  \"nice_to_haves\": null,\\n  \"career_level\": null\\n}', additional_kwargs={'refusal': None}, response_metadata={'token_usage': {'completion_tokens': 60, 'prompt_tokens': 235, 'total_tokens': 295, 'completion_tokens_details': {'accepted_prediction_tokens': 0, 'audio_tokens': 0, 'reasoning_tokens': 0, 'rejected_prediction_tokens': 0}, 'prompt_tokens_details': {'audio_tokens': 0, 'cached_tokens': 0}}, 'model_name': 'gpt-4.1-mini-2025-04-14', 'system_fingerprint': None, 'id': 'chatcmpl-BwuLqB8zSKSMRwpGse5HlHIZBbPSu', 'service_tier': 'default', 'finish_reason': 'stop', 'logprobs': None}, id='run--e6fe3abc-32f0-4b42-a290-416b0a30b163-0', usage_metadata={'input_tokens': 235, 'output_tokens': 60, 'total_tokens': 295, 'input_token_details': {'audio': 0, 'cache_read': 0}, 'output_token_details': {'audio': 0, 'reasoning': 0}}),\n",
       " '__interrupt__': [Interrupt(value='{\"questions\":[\"Can you describe your experience with the core responsibilities and tasks expected in this role, even if they are not listed on your resume?\",\"What specific skills or qualifications do you possess that align with the requirements of this position?\",\"How do you approach learning and adapting to new industry standards or technologies relevant to this role?\",\"Can you provide examples of how your soft skills have contributed to your success in previous roles similar to this one?\",\"Are there any additional experiences or achievements not included in your resume that you believe are important for this position?\"]}', resumable=True, ns=['scorecard_generator:3dbc6bea-3994-bca1-611b-3bb50a758083'])]}"
      ]
     },
     "execution_count": 3,
     "metadata": {},
     "output_type": "execute_result"
    }
   ],
   "source": [
    "await workflow.ainvoke({\"resume\": \"This is a resume\", \"job_description\": \"This is a job description\"})"
   ]
  },
  {
   "cell_type": "code",
   "execution_count": null,
   "id": "0218c525-3693-4824-bd4d-8b74c552a748",
   "metadata": {},
   "outputs": [],
   "source": [
    "type(resume_profiler)"
   ]
  },
  {
   "cell_type": "code",
   "execution_count": null,
   "id": "73b50878-ed8b-4118-ad0a-740772d7be56",
   "metadata": {},
   "outputs": [],
   "source": [
    "type(workflow.resume_profiler_agent)"
   ]
  },
  {
   "cell_type": "code",
   "execution_count": null,
   "id": "2fb9b4f0-3405-40fb-b5c2-96d35b92fc1b",
   "metadata": {},
   "outputs": [],
   "source": [
    "type(workflow.job_description_profiler)"
   ]
  },
  {
   "cell_type": "code",
   "execution_count": null,
   "id": "288b8857-b048-46c3-ba63-b7568919a60d",
   "metadata": {},
   "outputs": [],
   "source": []
  }
 ],
 "metadata": {
  "kernelspec": {
   "display_name": "Python 3 (ipykernel)",
   "language": "python",
   "name": "python3"
  },
  "language_info": {
   "codemirror_mode": {
    "name": "ipython",
    "version": 3
   },
   "file_extension": ".py",
   "mimetype": "text/x-python",
   "name": "python",
   "nbconvert_exporter": "python",
   "pygments_lexer": "ipython3",
   "version": "3.13.5"
  }
 },
 "nbformat": 4,
 "nbformat_minor": 5
}
